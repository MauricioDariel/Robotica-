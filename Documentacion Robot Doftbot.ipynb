{
 "cells": [
  {
   "cell_type": "markdown",
   "metadata": {},
   "source": [
    "\n",
    "# <span style=\"color:rgb(213,80,0)\"> Dofbot Control Node \\- ROS2</span>\n",
    "\n",
    "Documentacion:Torbellin Sanchez Mauricio Dariel\n",
    "\n",
    "\n",
    "Fecha: 20\\-10\\-2025\n",
    "\n",
    "### Descripción:\n",
    "\n",
    "Este código implementa un nodo de ROS 2 para controlar un robot Dofbot, que es un brazo robótico de 5 grados de libertad con una pinza. El nodo ejecuta una secuencia predefinida de movimientos que incluye abrir/cerrar la pinza y mover el brazo a diferentes posiciones usando cinemática inversa.\n",
    "\n",
    "### Dependencias:\n",
    "\n",
    "&nbsp;&nbsp;&nbsp;&nbsp; \\- ROS2 (rclpy)\n",
    "\n",
    "\n",
    "&nbsp;&nbsp;&nbsp;&nbsp; \\- trajectory\\_msgs\n",
    "\n",
    "\n",
    "&nbsp;&nbsp;&nbsp;&nbsp; \\- builtin\\_interfaces\n",
    "\n",
    "\n",
    "| **Módulo** <br>  | **Elementos Importados** <br>  | **Descripción** <br>   |\n",
    "| :-- | :-- | :-- |\n",
    "| rclpy <br>  | rclpy, Node <br>  | Módulo principal de ROS 2 para Python y la clase base para crear nodos. <br>   |\n",
    "| trajectory\\_msgs.msg <br>  | JointTrajectory, JointTrajectoryPoint <br>  | Mensajes estándar de ROS 2 para enviar trayectorias de articulaciones. <br>   |\n",
    "| builtin\\_interfaces.msg <br>  | Duration <br>  | Mensaje estándar para especificar la duración (tiempo) en ROS 2. <br>   |\n",
    "| time <br>  | time <br>  | Módulo estándar de Python para funciones relacionadas con el tiempo (usado con time.sleep). <br>   |\n",
    "| math <br>  | cos, sin, acos, asin, atan2, sqrt <br>  | Funciones matemáticas necesarias para el cálculo de la cinemática inversa (dofbot\\_ink). <br>   |\n",
    "\n",
    ""
   ]
  },
  {
   "cell_type": "code",
   "execution_count": 1,
   "metadata": {},
   "source": [
    "import rclpy\n",
    "from rclpy.node import Node\n",
    "from trajectory_msgs.msg import JointTrajectory, JointTrajectoryPoint\n",
    "from builtin_interfaces.msg import Duration\n",
    "import time\n",
    "from math import cos, sin, acos, asin, atan2, sqrt"
   ],
   "outputs": []
  },
  {
   "cell_type": "markdown",
   "metadata": {},
   "source": [
    "### Nodo principal de control del Dofbot.\n",
    "\n",
    "Publica comandos de trayectoria (JointTrajectory) para mover las\n",
    "\n",
    "\n",
    "articulaciones del brazo y del gripper, siguiendo una secuencia\n",
    "\n",
    "\n",
    "de posiciones definidas en la función `timer_callback`.\n",
    ""
   ]
  },
  {
   "cell_type": "code",
   "execution_count": 2,
   "metadata": {},
   "source": [
    "class DofbotControlNode(Node):"
   ],
   "outputs": []
  },
  {
   "cell_type": "markdown",
   "metadata": {},
   "source": [
    "### Constructor"
   ]
  },
  {
   "cell_type": "code",
   "execution_count": 3,
   "metadata": {},
   "source": [
    "def __init__(self):\n",
    "    super().__init__(\"dofbot_tray_control_node\")\n",
    "    self.lamda_ = 0\n",
    "    topic_dofbot_ = \"/dofbot_trajectory_controller/joint_trajectory\"\n",
    "    topic_gripper_ = \"/dofbot_gripper_controller/joint_trajectory\""
   ],
   "outputs": []
  },
  {
   "cell_type": "markdown",
   "metadata": {},
   "source": [
    "\n",
    "-  `lamda_`: Contador de estado para controlar la secuencia de movimientos\n",
    "-  `topic_dofbot_`: Topic para publicar trayectorias del brazo\n",
    "-  `topic_gripper_`: Topic para publicar trayectorias de la pinza\n",
    "### Configuración de Publishers"
   ]
  },
  {
   "cell_type": "code",
   "execution_count": 4,
   "metadata": {},
   "source": [
    "    self.dofbot_publisher_ = self.create_publisher(\n",
    "    JointTrajectory, topic_dofbot_, 10)\n",
    "self.dofbot_joints_ = ['arm_joint_01', 'arm_joint_02',\n",
    "                        'arm_joint_03', 'arm_joint_04', 'arm_joint_05']\n",
    "\n",
    "self.gripper_publisher_ = self.create_publisher(\n",
    "    JointTrajectory, topic_gripper_, 10)\n",
    "self.gripper_joints_ = ['grip_joint', 'rfinger_joint_01',\n",
    "                         'rfinger_joint_02', 'lfinger_grip_joint_01',\n",
    "                         'lfinger_grip_joint_02', 'lfinger_grip_joint_03']"
   ],
   "outputs": []
  },
  {
   "cell_type": "markdown",
   "metadata": {},
   "source": [
    "### Estructura de Joints:\n",
    "-  Brazo: 5 joints (arm\\_joint\\_01 a arm\\_joint\\_05)\n",
    "-  Pinza: 6 joints que controlan los dedos y el mecanismo de agarre\n",
    "### Timer y Inicialización\n",
    "\n",
    "self.timer\\_ = self.create\\_timer(0.5, self.timer\\_callback)\n",
    "\n",
    "\n",
    "self.get\\_logger().info('Nodo de control del dofbot en funcionamiento')\n",
    "\n",
    "###  **Función** **`timer_callback`** **\\- Núcleo de la Secuencia**\n",
    "\n",
    "Esta función implementa una máquina de estados usando `lamda_` como contador:Estado 0 (λ=0): Abrir Pinza\n",
    ""
   ]
  },
  {
   "cell_type": "code",
   "execution_count": 5,
   "metadata": {},
   "source": [
    "gstate = 1.57  # 90° en radianes - posición abierta\n",
    "gripper_st = gripper_state(gstate)"
   ],
   "outputs": []
  },
  {
   "cell_type": "markdown",
   "metadata": {},
   "source": [
    "\n",
    "-  Configura la pinza completamente abierta\n",
    "-  Espera 5 segundos\n",
    "### Estado 1 (λ=1): Cerrar Pinza"
   ]
  },
  {
   "cell_type": "code",
   "execution_count": 6,
   "metadata": {},
   "source": [
    "gstate_2 = 0  # 0° - posición cerrada"
   ],
   "outputs": []
  },
  {
   "cell_type": "markdown",
   "metadata": {},
   "source": [
    "\n",
    "-  Cierra completamente la pinza\n",
    "-  Espera 5 segundos\n",
    "### Estado 2 (λ=2): Abrir Pinza Nuevamente\n",
    "-  Repite la apertura de la pinza\n",
    "### Estado 3 (λ=3): Primera Posición del Brazo"
   ]
  },
  {
   "cell_type": "code",
   "execution_count": 7,
   "metadata": {},
   "source": [
    "x_1 = 0.2, y_1 = 0.0, z_1 = 0.05\n",
    "theta_p_1 = 3.1416*(3/4)  # 135°\n",
    "theta_g_1 = 0.0"
   ],
   "outputs": []
  },
  {
   "cell_type": "markdown",
   "metadata": {},
   "source": [
    "\n",
    "-  Posición: (0.2, 0.0, 0.05) metros\n",
    "-  Orientación: 135° en el plano pitch\n",
    "-  Tiempo de movimiento: 2 segundos\n",
    "-  Espera: 15 segundos\n",
    "#### Estado 4 (λ=4): Cerrar Pinza para Agarrar\n",
    "-  Cierra la pinza para agarrar un objeto\n",
    "-  Tiempo: 2 segundos, Espera: 10 segundos\n",
    "### Estados 5\\-7 (λ=5\\-7): Movimientos de Transporte"
   ]
  },
  {
   "cell_type": "code",
   "execution_count": 8,
   "metadata": {},
   "source": [
    "# Estado 5: Elevar objeto\n",
    "x_2 = 0.15, y_2 = 0.0, z_2 = 0.11\n",
    "\n",
    "# Estado 6: Mover lateralmente\n",
    "x_3 = 0.15, y_3 = 0.15, z_3 = 0.11\n",
    "\n",
    "# Estado 7: Bajar objeto\n",
    "x_3 = 0.15, y_3 = 0.15, z_3 = 0.05"
   ],
   "outputs": []
  },
  {
   "cell_type": "markdown",
   "metadata": {},
   "source": [
    "\n",
    "-  Secuencia de movimientos para transportar un objeto\n",
    "-  Cada movimiento toma 2 segundos + 15 segundos de espera\n",
    "### Estado 8 (λ=8): Liberar Objeto\n",
    "-  Abre la pinza para soltar el objeto\n",
    "-  Tiempo: 2 segundos, Espera: 10 segundos\n",
    "### Estado 9 (λ=9): Posición de Reposo"
   ]
  },
  {
   "cell_type": "code",
   "execution_count": 9,
   "metadata": {},
   "source": [
    "solution_pos = [0.0, 0.0, 0.0, 0.0, 0.0]"
   ],
   "outputs": []
  },
  {
   "cell_type": "markdown",
   "metadata": {},
   "source": [
    "\n",
    "-  Regresa todas las articulaciones a posición cero\n",
    "-  Tiempo: 2 segundos, Espera: 10 segundos\n",
    "### **4. Función** **`dofbot_ink`** **\\- Cinemática Inversa**\n",
    "\n",
    "Parámetros DH del Robot:\n",
    "\n",
    "-  `z_0_1 = 0.105`: Altura base\\-primera articulación\n",
    "-  `L_1 = 0.084`: Longitud eslabón 1\n",
    "-  `L_2 = 0.084`: Longitud eslabón 2\n",
    "-  `L_3 = 0.115`: Longitud eslabón 3\n",
    "### Algoritmo de Cinemática Inversa:"
   ]
  },
  {
   "cell_type": "code",
   "execution_count": 10,
   "metadata": {},
   "source": [
    "theta_1 = atan2(y_P, x_P)  # Articulación base (rotación)\n",
    "aux_x = sqrt(pow(x_P, 2) + pow(y_P, 2)) - L_3*sin(theta_1_P)\n",
    "aux_z = z_P - z_0_1 - L_3*cos(theta_1_P)\n",
    "norm_4_P = sqrt(pow(aux_z, 2)+pow(aux_x, 2))\n",
    "epsilon = acos(aux_z/norm_4_P)\n",
    "alpha = acos((pow(L_1, 2)+pow(norm_4_P, 2)-pow(L_2, 2))/(2*L_1*norm_4_P))\n",
    "theta_2 = epsilon - alpha\n",
    "theta_3 = 3.1416 - asin((sin(alpha)*sqrt(pow(aux_x, 2) + pow(aux_z, 2)))/(L_2))\n",
    "theta_4 = theta_1_P - theta_2 - theta_3\n",
    "theta_5 = theta_g  # Articulación de la pinza"
   ],
   "outputs": []
  },
  {
   "cell_type": "markdown",
   "metadata": {},
   "source": [
    "\n",
    "Retorno: `[theta_1, -theta_2, -theta_3, -theta_4, theta_5]`\n",
    "\n",
    "\n",
    " **5. Función** **`gripper_state`** **\\- Control de Pinza**\n",
    ""
   ]
  },
  {
   "cell_type": "code",
   "execution_count": 11,
   "metadata": {},
   "source": [
    "def gripper_state(theta):\n",
    "    return [float(-theta), float(theta), float(-theta),\n",
    "            float(theta), float(-theta), float(theta)]"
   ],
   "outputs": []
  },
  {
   "cell_type": "markdown",
   "metadata": {},
   "source": [
    "\n",
    "Mapeo de Articulaciones:\n",
    "\n",
    "-  Patrón alternante de signos para coordinar movimiento simétrico de los dedos\n",
    "-  Todos los joints reciben el mismo ángulo pero con orientaciones opuestas"
   ]
  },
  {
   "cell_type": "code",
   "execution_count": 12,
   "metadata": {},
   "source": [
    "def main(args=None):\n",
    "    rclpy.init(args=args)\n",
    "    node = DofbotControlNode()\n",
    "    rclpy.spin(node)\n",
    "    rclpy.shutdown()\n",
    ""
   ],
   "outputs": []
}
,
  {
   "cell_type": "markdown",
   "metadata": {},
   "source": [
    "\n",
    "Flujo de Ejecución:\n",
    "\n",
    "1.  Inicializa ROS 2\n",
    "2. Crea instancia del nodo\n",
    "3. Ejecuta el bucle principal (spin)\n",
    "4. Limpieza al finalizar\n",
    "\n",
    "**Topics Publicados:**\n",
    "\n",
    "-  `/dofbot_trajectory_controller/joint_trajectory`: Control del brazo\n",
    "-  `/dofbot_gripper_controller/joint_trajectory`: Control de la pinza\n",
    "\n",
    "**Mensajes Utilizados:**\n",
    "\n",
    "-  `JointTrajectory`: Define trayectorias para múltiples joints\n",
    "-  `JointTrajectoryPoint`: Puntos específicos en la trayectoria\n",
    "-  `Duration`: Especifica tiempos de ejecución\n",
    "\n",
    "**Características de la Secuencia:**\n",
    "\n",
    "-  Duración total: ~105 segundos (sin contar delays internos)\n",
    "-  Movimientos del brazo: 5 posiciones diferentes\n",
    "-  Estados de pinza: 4 cambios (abrir/cerrar)\n",
    "-  Tolerancia de tiempo: Usa `time.sleep()` para sincronización\n",
    ""
   ]
  }
 ],
 "metadata": {
  "kernelspec": {
   "display_name": "MATLAB (matlabkernel)",
   "language": "matlab",
   "name": "matlab"
  },
  "language_info": {
   "file_extension": ".m",
   "mimetype": "text/matlab",
   "name": "matlab",
   "nbconvert_exporter": "matlab",
   "pygments_lexer": "matlab",
   "version": "25.2.0.3007325"
  }
 },
 "nbformat": 4,
 "nbformat_minor": 4
}