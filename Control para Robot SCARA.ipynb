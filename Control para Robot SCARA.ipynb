{
 "cells": [
  {
   "cell_type": "markdown",
   "metadata": {},
   "source": [
    "\n",
    "# <span style=\"color:rgb(213,80,0)\"> Control para Robot SCARA</span>\n",
    "\n",
    "Documentacion:Torbellin Sanchez Mauricio Dariel\n",
    "\n",
    "\n",
    "Fecha: 20\\-10\\-2025\n",
    "\n",
    "## Descripción General\n",
    "\n",
    "Este código implementa un nodo de ROS 2 para controlar un robot SCARA (Selective Compliance Articulated Robot Arm) que ejecuta una trayectoria lineal en el espacio cartesiano. El robot sigue una línea recta desde un punto inicial hasta un punto final durante un tiempo específico.\n",
    "\n",
    "###  **Estructura del Código**\n",
    "### **1.Shebang y Importaciones**"
   ]
  },
  {
   "cell_type": "code",
   "execution_count": 1,
   "metadata": {},
   "source": [
    "#!/usr/bin/env python3\n",
    "\n",
    "import rclpy\n",
    "from rclpy.node import Node\n",
    "from trajectory_msgs.msg import JointTrajectory, JointTrajectoryPoint\n",
    "from builtin_interfaces.msg import Duration\n",
    "\n",
    "import time\n",
    "from math import cos, sin, acos, asin, atan2, sqrt"
   ],
   "outputs": []
  },
  {
   "cell_type": "markdown",
   "metadata": {},
   "source": [
    "### Propósito:\n",
    "-  `#!/usr/bin/env python3`: Especifica el intérprete para ejecución directa\n",
    "-  Mismas importaciones ROS 2 que el código anterior\n",
    "-  Funciones matemáticas para cálculos de cinemática\n",
    "###  **2. Clase Principal:**\n",
    "### **`ScaraTrayLineNode`**Constructor `__init__`"
   ]
  },
  {
   "cell_type": "code",
   "execution_count": 2,
   "metadata": {},
   "source": [
    "def __init__(self):\n",
    "    super().__init__(\"scara_tray_line_node\")\n",
    "    topic_name = \"/scara_trajectory_controller/joint_trajectory\"\n",
    "    self.joints_ = ['link_1_joint', 'link_2_joint', 'link_3_joint']\n",
    "    self.lamda_ = 0\n",
    "    self.Tiempo_ejec_ = 10"
   ],
   "outputs": []
  },
  {
   "cell_type": "markdown",
   "metadata": {},
   "source": [
    "### Variables de Instancia:\n",
    "-  `joints_`: Nombres de las 3 articulaciones del SCARA\n",
    "-  `lamda_`: Parámetro de interpolación (0 a 10)\n",
    "-  `Tiempo_ejec_`: Tiempo total de ejecución en segundos\n",
    "### Configuración del Publisher"
   ]
  },
  {
   "cell_type": "code",
   "execution_count": 3,
   "metadata": {},
   "source": [
    "    self.scara_tray_pub_ = self.create_publisher(\n",
    "    JointTrajectory, topic_name, 10)"
   ],
   "outputs": []
  },
  {
   "cell_type": "markdown",
   "metadata": {},
   "source": [
    "\n",
    "Topic: `/scara_trajectory_controller/joint_trajectory`\n",
    "\n",
    "### Timer e Inicialización"
   ]
  },
  {
   "cell_type": "code",
   "execution_count": 4,
   "metadata": {},
   "source": [
    "    self.tray_timer_ = self.create_timer(1, self.trayectory_cbck)\n",
    "self.get_logger().info('Scara activo, trayectoria linea recta')"
   ],
   "outputs": []
  },
  {
   "cell_type": "markdown",
   "metadata": {},
   "source": [
    "###  **Función** **`trayectory_cbck`** **\\- Control de Trayectoria** Estructura del Mensaje"
   ]
  },
  {
   "cell_type": "code",
   "execution_count": 5,
   "metadata": {},
   "source": [
    "trayectory_msg = JointTrajectory()\n",
    "trayectory_msg.joint_names = self.joints_\n",
    "point = JointTrajectoryPoint()"
   ],
   "outputs": []
  },
  {
   "cell_type": "markdown",
   "metadata": {},
   "source": [
    "### Lógica de Control Principal"
   ]
  },
  {
   "cell_type": "code",
   "execution_count": 6,
   "metadata": {},
   "source": [
    "if self.lamda_ <= self.Tiempo_ejec_:\n",
    "    # Definición de puntos inicial y final\n",
    "    x_1 = 0.1\n",
    "    y_1 = 0.6\n",
    "    theta_1 = 0\n",
    "    x_2 = 0.3\n",
    "    y_2 = -0.6\n",
    "    theta_2 = 1.57  # 90° en radianes\n",
    "\n",
    "    # Cálculo de cinemática inversa\n",
    "    solucion = invk_sol(self.lamda_, x_1, y_1, theta_1, x_2, y_2, theta_2)\n",
    "\n",
    "    # Configuración del punto de trayectoria\n",
    "    point.positions = solucion\n",
    "    point.time_from_start = Duration(sec=1)\n",
    "    trayectory_msg.points.append(point)\n",
    "\n",
    "    # Publicación y logging\n",
    "    self.scara_tray_pub_.publish(trayectory_msg)\n",
    "    self.get_logger().info(\"Postura actual {}\".format(solucion))\n",
    "    time.sleep(2)\n",
    "    self.lamda_ += 1"
   ],
   "outputs": []
  },
  {
   "cell_type": "markdown",
   "metadata": {},
   "source": [
    "### Puntos de Trayectoria:\n",
    "-  Inicio: (x=0.1, y=0.6, θ=0 rad)\n",
    "-  Fin: (x=0.3, y=\\-0.6, θ=1.57 rad ≈ 90°)\n",
    "### Condición de Finalización"
   ]
  },
  {
   "cell_type": "code",
   "execution_count": 7,
   "metadata": {},
   "source": [
    "    elif self.lamda_ > 10:\n",
    "    link_1_joint = 0\n",
    "    link_2_joint = 0\n",
    "    link_3_joint = 0\n",
    "    return [float(link_1_joint), float(link_2_joint), float(link_3_joint)]"
   ],
   "outputs": []
  },
  {
   "cell_type": "markdown",
   "metadata": {},
   "source": [
    "\n",
    "Nota: Esta condición parece tener un error, ya que el `return` no afecta el flujo principal.\n",
    "\n",
    "\n",
    " **Función** **`invk_sol`** **\\- Cinemática Inversa del SCARA** Parámetros del Robot\n",
    ""
   ]
  },
  {
   "cell_type": "code",
   "execution_count": 8,
   "metadata": {},
   "source": [
    "    Tiempo_ejec_ = 10\n",
    "L_1 = 0.5  # Longitud del primer eslabón\n",
    "L_2 = 0.5  # Longitud del segundo eslabón\n",
    "L_3 = 0.3  # Longitud del tercer eslabón (prismático o rotacional)"
   ],
   "outputs": []
  },
  {
   "cell_type": "markdown",
   "metadata": {},
   "source": [
    "### Interpolación Lineal Cartesiana"
   ]
  },
  {
   "cell_type": "code",
   "execution_count": 9,
   "metadata": {},
   "source": [
    "x_P = x_in + (param/Tiempo_ejec_)*(x_fin - x_in)\n",
    "y_P = y_in + (param/Tiempo_ejec_)*(y_fin - y_in)\n",
    "theta_P = theta_in + (param/Tiempo_ejec_)*(theta_fin - theta_in)"
   ],
   "outputs": []
  },
  {
   "cell_type": "markdown",
   "metadata": {},
   "source": [
    "### Fórmula de Interpolación:"
   ]
  },
  {
   "cell_type": "code",
   "execution_count": 10,
   "metadata": {},
   "source": [
    "valor_actual = valor_inicial + (t/T) * (valor_final - valor_inicial)"
   ],
   "outputs": []
  },
  {
   "cell_type": "markdown",
   "metadata": {},
   "source": [
    "\n",
    "Donde `t = param` y `T = Tiempo_ejec_`Cálculo de Posición del Efector Final\n",
    ""
   ]
  },
  {
   "cell_type": "code",
   "execution_count": 11,
   "metadata": {},
   "source": [
    "x_3 = x_P - L_3*cos(theta_P)\n",
    "y_3 = y_P - L_3*sin(theta_P)"
   ],
   "outputs": []
  },
  {
   "cell_type": "markdown",
   "metadata": {},
   "source": [
    "\n",
    "Propósito: Calcula la posición de la articulación 3 basado en la posición y orientación del efector final.\n",
    "\n",
    "### Resolución de Cinemática Inversa"
   ]
  },
  {
   "cell_type": "code",
   "execution_count": 12,
   "metadata": {},
   "source": [
    "theta_2 = acos((pow(x_3, 2)+pow(y_3,2)-pow(L_1, 2)-pow(L_2, 2))/(2*L_1*L_2))\n",
    "beta = atan2(y_3, x_3)\n",
    "psi = acos((pow(x_3, 2)+pow(y_3,2)+pow(L_1, 2)-pow(L_2, 2))/(2*L_1*sqrt(pow(x_3, 2)+pow(y_3,2))))\n",
    "theta_1 = beta - psi\n",
    "theta_3 = theta_P - theta_1 - theta_2"
   ],
   "outputs": []
  },
  {
   "cell_type": "markdown",
   "metadata": {},
   "source": [
    "### Explicación de Ángulos:\n",
    "-  `theta_2`: Ángulo de la segunda articulación (ley del coseno)\n",
    "-  `beta`: Ángulo hacia el punto (x₃, y₃) desde el origen\n",
    "-  `psi`: Ángulo auxiliar para cálculo de theta\\_1\n",
    "-  `theta_1`: Ángulo de la primera articulación\n",
    "-  `theta_3`: Ángulo de la tercera articulación (orientación final)\n",
    "### **5. Función Principal**"
   ]
  },
  {
   "cell_type": "code",
   "execution_count": 13,
   "metadata": {},
   "source": [
    "def main(args=None):\n",
    "    rclpy.init(args=args)\n",
    "    node = ScaraTrayLineNode()\n",
    "    rclpy.spin(node)\n",
    "    rclpy.shutdown()"
   ],
   "outputs": []
}
,
  {
   "cell_type": "markdown",
   "metadata": {},
   "source": [
    "### Características del Robot SCARA:\n",
    "-  Grados de libertad: 3 (2 rotacionales + 1 rotacional/prismático)\n",
    "-  Longitudes de eslabones: L₁=0.5m, L₂=0.5m, L₃=0.3m\n",
    "-  Tipo de trayectoria: Lineal en espacio cartesiano\n",
    "### **Parámetros de Trayectoria:**\n",
    "-  Tiempo total: 10 segundos\n",
    "-  Frecuencia de actualización: 1 Hz (timer de 1 segundo)\n",
    "-  Delay entre puntos: 2 segundos\n",
    "-  Total de puntos: 11 (de λ=0 a λ=10)\n",
    "### **Topics y Mensajes:**\n",
    "-  Topic: `/scara_trajectory_controller/joint_trajectory`\n",
    "-  Tipo de mensaje: `JointTrajectory`\n",
    "-  Joints: `['link_1_joint', 'link_2_joint', 'link_3_joint']`\n",
    "## Análisis de la Trayectoria\n",
    "\n",
    "Movimiento Cartesiano:\n",
    "\n",
    "-  Desplazamiento X: 0.1m → 0.3m (+0.2m)\n",
    "-  Desplazamiento Y: 0.6m → \\-0.6m (\\-1.2m)\n",
    "-  Rotación: 0° → 90° (1.57 rad)\n",
    "### **Patrón de Ejecución:**\n",
    "1.  Inicialización: λ = 0, posición inicial\n",
    "2. Iteraciones: λ = 1 a 10, interpolación lineal\n",
    "3. Finalización: λ > 10, se detiene (pero no retorna a cero correctamente)\n",
    ""
   ]
  }
 ],
 "metadata": {
  "kernelspec": {
   "display_name": "MATLAB (matlabkernel)",
   "language": "matlab",
   "name": "matlab"
  },
  "language_info": {
   "file_extension": ".m",
   "mimetype": "text/matlab",
   "name": "matlab",
   "nbconvert_exporter": "matlab",
   "pygments_lexer": "matlab",
   "version": "25.2.0.3007325"
  }
 },
 "nbformat": 4,
 "nbformat_minor": 4
}